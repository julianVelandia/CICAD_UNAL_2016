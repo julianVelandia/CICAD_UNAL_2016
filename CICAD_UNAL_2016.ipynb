{
  "nbformat": 4,
  "nbformat_minor": 0,
  "metadata": {
    "colab": {
      "provenance": [],
      "authorship_tag": "ABX9TyMdMpC3w0Bo6Q7f0bRWX5fI",
      "include_colab_link": true
    },
    "kernelspec": {
      "name": "python3",
      "display_name": "Python 3"
    },
    "language_info": {
      "name": "python"
    }
  },
  "cells": [
    {
      "cell_type": "markdown",
      "metadata": {
        "id": "view-in-github",
        "colab_type": "text"
      },
      "source": [
        "<a href=\"https://colab.research.google.com/github/julianVelandia/CICAD_UNAL_2016/blob/master/CICAD_UNAL_2016.ipynb\" target=\"_parent\"><img src=\"https://colab.research.google.com/assets/colab-badge.svg\" alt=\"Open In Colab\"/></a>"
      ]
    },
    {
      "cell_type": "markdown",
      "source": [
        "# **Métodos de aprendizaje automático para la detección de factores de riesgo en el consumo de sustancias**\n",
        "\n",
        "***\n",
        "\n",
        "###Universidad Nacional de Colombia\n",
        "\n",
        "- Julián Camilo Velandia\n",
        "- William Giovanni Quevedo\n"
      ],
      "metadata": {
        "id": "Ktp7S7pIDyJ0"
      }
    },
    {
      "cell_type": "markdown",
      "source": [
        "## DataSet\n",
        "El dataset en cuestión, contiene información sensible y privada sobre el consumo de sustancias entre estudiantes universitarios. Por razones de privacidad y ética, es fundamental asegurar la confidencialidad y protección de los datos personales de los participantes involucrados en la investigación.\n",
        "\n",
        "Para garantizar la confidencialidad de los participantes y cumplir con los principios éticos y legales de la investigación, hemos decidido no subir el dataset a repositorios públicos. Si otros investigadores están interesados en acceder al dataset para fines de replicación o colaboración, les pedimos que se pongan en contacto con nosotros directamente.\n"
      ],
      "metadata": {
        "id": "tR6eB2QgD2n8"
      }
    },
    {
      "cell_type": "markdown",
      "source": [
        "\n",
        "Se carga el dataset en un dataframe de pandas"
      ],
      "metadata": {
        "id": "1PEVb971D5q0"
      }
    },
    {
      "cell_type": "code",
      "execution_count": 1,
      "metadata": {
        "id": "NmECWsvlzIt5",
        "colab": {
          "base_uri": "https://localhost:8080/"
        },
        "outputId": "a742b591-00ac-4af6-c03d-ef5ea414422e"
      },
      "outputs": [
        {
          "output_type": "stream",
          "name": "stdout",
          "text": [
            "Drive already mounted at /content/drive; to attempt to forcibly remount, call drive.mount(\"/content/drive\", force_remount=True).\n"
          ]
        },
        {
          "output_type": "stream",
          "name": "stderr",
          "text": [
            "<ipython-input-1-a30ea418a8d2>:4: DtypeWarning: Columns (5,58,108,109,110,111,112,113,114,115,116,117,118,119,120,121,122,123,124,125,126,127,128,129,130,131,132,133,134,135,136,137,138,139,140,141,142,143,144,145,146,147,148,149,150,151,152,349,352,353,354,355,356,357,358,359,360,361,362,363,364,365,366,367,368,369,370) have mixed types. Specify dtype option on import or set low_memory=False.\n",
            "  data2016 = pd.read_csv( \"/content/drive/MyDrive/CICAD/dataset2016.csv\", sep=',')\n"
          ]
        }
      ],
      "source": [
        "from google.colab import drive\n",
        "import pandas as pd\n",
        "drive.mount('/content/drive')\n",
        "data2016 = pd.read_csv( \"/content/drive/MyDrive/CICAD/dataset2016.csv\", sep=',')"
      ]
    },
    {
      "cell_type": "markdown",
      "source": [
        "Se descargan las dependencias"
      ],
      "metadata": {
        "id": "wv6qQ0-5D8nc"
      }
    },
    {
      "cell_type": "code",
      "source": [
        "import tensorflow as tf\n",
        "from tensorflow.keras import layers\n",
        "from sklearn.model_selection import train_test_split\n",
        "from tensorflow.keras.callbacks import TensorBoard, EarlyStopping\n",
        "import datetime\n",
        "%load_ext tensorboard\n",
        "import math"
      ],
      "metadata": {
        "id": "_1GkWf0hGzAR"
      },
      "execution_count": 2,
      "outputs": []
    },
    {
      "cell_type": "markdown",
      "source": [
        "Se ajusta el formato de algunos datos y se reemplazan los valores no respondidos"
      ],
      "metadata": {
        "id": "8OYjdVPCECod"
      }
    },
    {
      "cell_type": "code",
      "source": [
        "data2016 = data2016.applymap(lambda x: str(x).replace(',', '.'))\n",
        "data2016.replace(\"#NULL!\", 0, inplace=True)"
      ],
      "metadata": {
        "id": "klNzGmPIG5TW"
      },
      "execution_count": 3,
      "outputs": []
    },
    {
      "cell_type": "markdown",
      "source": [
        "Se conforma el perfil base, eliminando las preguntas que no son relevantes o que no fueron respondidas"
      ],
      "metadata": {
        "id": "q25nx6waSav5"
      }
    },
    {
      "cell_type": "code",
      "source": [
        "data2016.shape"
      ],
      "metadata": {
        "colab": {
          "base_uri": "https://localhost:8080/"
        },
        "id": "zur1-Bn5V9MD",
        "outputId": "004d67cf-f30b-4578-f68f-609c914546aa"
      },
      "execution_count": 10,
      "outputs": [
        {
          "output_type": "execute_result",
          "data": {
            "text/plain": [
              "(1190, 534)"
            ]
          },
          "metadata": {},
          "execution_count": 10
        }
      ]
    },
    {
      "cell_type": "code",
      "source": [
        "X2016Base = data2016.iloc[:, :65]\n",
        "X2016Base = pd.concat([X2016Base, data2016.iloc[:, 129:181]], axis=1)\n",
        "X2016Base = X2016Base.drop(\n",
        "    ['UNIVERSIDAD','P4', 'P15.1','P15.2','P15.3','P15.4','P24.1','P24.2','P24.3','P24.4','P24.5','P24.6', 'P24.7',],\n",
        "    axis=1)"
      ],
      "metadata": {
        "id": "AjU8F_baG6zz"
      },
      "execution_count": 11,
      "outputs": []
    },
    {
      "cell_type": "code",
      "source": [
        "X2016Base.shape"
      ],
      "metadata": {
        "colab": {
          "base_uri": "https://localhost:8080/"
        },
        "id": "fQKTE5kVUXog",
        "outputId": "53c83b10-b1ba-4eec-eaca-ded9f31a5014"
      },
      "execution_count": 12,
      "outputs": [
        {
          "output_type": "execute_result",
          "data": {
            "text/plain": [
              "(1190, 104)"
            ]
          },
          "metadata": {},
          "execution_count": 12
        }
      ]
    },
    {
      "cell_type": "markdown",
      "source": [
        "#Base\n",
        "Se configuran los datos del perfil base y se plantea la predicción de si se ha consumido cada sustancia (Tabaco, alcohol, mariguana y cocaina)"
      ],
      "metadata": {
        "id": "FzuogoJ0K5jL"
      }
    },
    {
      "cell_type": "code",
      "source": [
        "y2016Tab = data2016[['P35',]].to_numpy().astype('float32')\n",
        "y2016Beb = data2016[['P45',]].to_numpy().astype('float32')\n",
        "y2016Mar = data2016[['P93',]].to_numpy().astype('float32')\n",
        "y2016Coc = data2016[['P104',]].to_numpy().astype('float32')\n",
        "X2016Base = pd.get_dummies(X2016Base)\n",
        "X2016Base = X2016Base.to_numpy().astype('float32')\n",
        "X_trainTab, X_validTab, y_trainTab, y_validTab = train_test_split(X2016Base, y2016Tab, test_size=0.2, random_state=42)\n",
        "X_trainBeb, X_validBeb, y_trainBeb, y_validBeb = train_test_split(X2016Base, y2016Beb, test_size=0.2, random_state=42)\n",
        "X_trainMar, X_validMar, y_trainMar, y_validMar = train_test_split(X2016Base, y2016Mar, test_size=0.2, random_state=42)\n",
        "X_trainCoc, X_validCoc, y_trainCoc, y_validCoc = train_test_split(X2016Base, y2016Coc, test_size=0.2, random_state=42)"
      ],
      "metadata": {
        "id": "l-2FgjsAK5JG",
        "colab": {
          "base_uri": "https://localhost:8080/"
        },
        "outputId": "c7f1efda-7902-44d0-dc82-c5d6e2c8aa58"
      },
      "execution_count": 13,
      "outputs": [
        {
          "output_type": "execute_result",
          "data": {
            "text/plain": [
              "(1190, 503)"
            ]
          },
          "metadata": {},
          "execution_count": 13
        }
      ]
    },
    {
      "cell_type": "markdown",
      "source": [
        "Se entrena una red neuronal para cada sustancia"
      ],
      "metadata": {
        "id": "N9mxkWP3L_eE"
      }
    },
    {
      "cell_type": "markdown",
      "source": [
        "#Tabaco"
      ],
      "metadata": {
        "id": "0I_Vy1R1Szzl"
      }
    },
    {
      "cell_type": "code",
      "source": [
        "log_dir=\"logs/fit/\" + datetime.datetime.now().strftime(\"%Y%m%d-%H%M%S\")\n",
        "tensorboard_callback = TensorBoard(log_dir=log_dir, histogram_freq=1)\n",
        "\n",
        "model = tf.keras.Sequential([\n",
        "    layers.Dense(X2016Base.shape[1], activation='relu', input_shape=(X2016Base.shape[1],)),\n",
        "    layers.Dense(16, activation='relu'),\n",
        "    layers.Dropout(0.5),\n",
        "     layers.Dense(16, activation='relu'),\n",
        "    layers.Dropout(0.5),\n",
        "       layers.Dense(4, activation='relu'),\n",
        "    layers.Dropout(0.5),\n",
        "    layers.Dense(2, activation='relu'),\n",
        "    layers.Dense(1, activation='sigmoid')\n",
        "])\n",
        "\n",
        "model.compile(optimizer='adam', loss='binary_crossentropy', metrics=['accuracy'])\n",
        "tensorboard_callback = TensorBoard(log_dir=log_dir, histogram_freq=1)\n",
        "\n",
        "early_stopping_callback = EarlyStopping(monitor='val_accuracy', patience=20)\n",
        "\n",
        "model.fit(X_trainTab, y_trainTab, validation_data=(X_validTab, y_validTab), epochs=50, batch_size=16, callbacks=[tensorboard_callback,early_stopping_callback])"
      ],
      "metadata": {
        "colab": {
          "base_uri": "https://localhost:8080/",
          "height": 1000
        },
        "id": "ExYedGDYG8nd",
        "outputId": "2c91ac41-0c06-4dcd-9304-daa52349d514"
      },
      "execution_count": 30,
      "outputs": [
        {
          "output_type": "stream",
          "name": "stdout",
          "text": [
            "Epoch 1/50\n",
            "60/60 [==============================] - 2s 13ms/step - loss: 0.4308 - accuracy: 0.5158 - val_loss: -1.0218 - val_accuracy: 0.6471\n",
            "Epoch 2/50\n",
            "60/60 [==============================] - 1s 10ms/step - loss: -15.3248 - accuracy: 0.5420 - val_loss: -79.2850 - val_accuracy: 0.6471\n",
            "Epoch 3/50\n",
            "60/60 [==============================] - 1s 10ms/step - loss: -587.6656 - accuracy: 0.6050 - val_loss: -1704.0084 - val_accuracy: 0.6471\n",
            "Epoch 4/50\n",
            "60/60 [==============================] - 1s 10ms/step - loss: -8403.3154 - accuracy: 0.6050 - val_loss: -14805.2520 - val_accuracy: 0.6471\n",
            "Epoch 5/50\n",
            "60/60 [==============================] - 1s 10ms/step - loss: -42986.5469 - accuracy: 0.6050 - val_loss: -75654.2656 - val_accuracy: 0.6471\n",
            "Epoch 6/50\n",
            "60/60 [==============================] - 1s 10ms/step - loss: -170876.3750 - accuracy: 0.6050 - val_loss: -288145.2812 - val_accuracy: 0.6471\n",
            "Epoch 7/50\n",
            "60/60 [==============================] - 1s 10ms/step - loss: -612772.9375 - accuracy: 0.6050 - val_loss: -964298.5000 - val_accuracy: 0.6471\n",
            "Epoch 8/50\n",
            "60/60 [==============================] - 1s 10ms/step - loss: -2133306.2500 - accuracy: 0.6050 - val_loss: -2984936.2500 - val_accuracy: 0.6471\n",
            "Epoch 9/50\n",
            "60/60 [==============================] - 1s 11ms/step - loss: -6113570.0000 - accuracy: 0.6050 - val_loss: -8500297.0000 - val_accuracy: 0.6471\n",
            "Epoch 10/50\n",
            "60/60 [==============================] - 1s 12ms/step - loss: -16418471.0000 - accuracy: 0.6050 - val_loss: -22523584.0000 - val_accuracy: 0.6471\n",
            "Epoch 11/50\n",
            "60/60 [==============================] - 1s 15ms/step - loss: -35669176.0000 - accuracy: 0.6050 - val_loss: -51488928.0000 - val_accuracy: 0.6471\n",
            "Epoch 12/50\n",
            "60/60 [==============================] - 1s 15ms/step - loss: -95103632.0000 - accuracy: 0.6050 - val_loss: -117253272.0000 - val_accuracy: 0.6471\n",
            "Epoch 13/50\n",
            "60/60 [==============================] - 1s 15ms/step - loss: -191351552.0000 - accuracy: 0.6050 - val_loss: -234384944.0000 - val_accuracy: 0.6471\n",
            "Epoch 14/50\n",
            "60/60 [==============================] - 1s 15ms/step - loss: -347323360.0000 - accuracy: 0.6050 - val_loss: -435098784.0000 - val_accuracy: 0.6471\n",
            "Epoch 15/50\n",
            "60/60 [==============================] - 1s 11ms/step - loss: -738544704.0000 - accuracy: 0.6050 - val_loss: -803163136.0000 - val_accuracy: 0.6471\n",
            "Epoch 16/50\n",
            "60/60 [==============================] - 1s 10ms/step - loss: -1248469376.0000 - accuracy: 0.6050 - val_loss: -1357924864.0000 - val_accuracy: 0.6471\n",
            "Epoch 17/50\n",
            "60/60 [==============================] - 1s 10ms/step - loss: -1808762496.0000 - accuracy: 0.6050 - val_loss: -2139704320.0000 - val_accuracy: 0.6471\n",
            "Epoch 18/50\n",
            "60/60 [==============================] - 1s 10ms/step - loss: -3196848128.0000 - accuracy: 0.6050 - val_loss: -3354592256.0000 - val_accuracy: 0.6471\n",
            "Epoch 19/50\n",
            "60/60 [==============================] - 1s 10ms/step - loss: -4385991680.0000 - accuracy: 0.6050 - val_loss: -4941721088.0000 - val_accuracy: 0.6471\n",
            "Epoch 20/50\n",
            "60/60 [==============================] - 1s 10ms/step - loss: -6911812608.0000 - accuracy: 0.6050 - val_loss: -7198789120.0000 - val_accuracy: 0.6471\n",
            "Epoch 21/50\n",
            "25/60 [===========>..................] - ETA: 0s - loss: -8594463744.0000 - accuracy: 0.6275"
          ]
        },
        {
          "output_type": "error",
          "ename": "KeyboardInterrupt",
          "evalue": "ignored",
          "traceback": [
            "\u001b[0;31m---------------------------------------------------------------------------\u001b[0m",
            "\u001b[0;31mKeyboardInterrupt\u001b[0m                         Traceback (most recent call last)",
            "\u001b[0;32m<ipython-input-30-c9c9e84e02a6>\u001b[0m in \u001b[0;36m<cell line: 22>\u001b[0;34m()\u001b[0m\n\u001b[1;32m     20\u001b[0m \u001b[0mearly_stopping_callback\u001b[0m \u001b[0;34m=\u001b[0m \u001b[0mEarlyStopping\u001b[0m\u001b[0;34m(\u001b[0m\u001b[0mmonitor\u001b[0m\u001b[0;34m=\u001b[0m\u001b[0;34m'val_accuracy'\u001b[0m\u001b[0;34m,\u001b[0m \u001b[0mpatience\u001b[0m\u001b[0;34m=\u001b[0m\u001b[0;36m20\u001b[0m\u001b[0;34m)\u001b[0m\u001b[0;34m\u001b[0m\u001b[0;34m\u001b[0m\u001b[0m\n\u001b[1;32m     21\u001b[0m \u001b[0;34m\u001b[0m\u001b[0m\n\u001b[0;32m---> 22\u001b[0;31m \u001b[0mmodel\u001b[0m\u001b[0;34m.\u001b[0m\u001b[0mfit\u001b[0m\u001b[0;34m(\u001b[0m\u001b[0mX_trainTab\u001b[0m\u001b[0;34m,\u001b[0m \u001b[0my_trainTab\u001b[0m\u001b[0;34m,\u001b[0m \u001b[0mvalidation_data\u001b[0m\u001b[0;34m=\u001b[0m\u001b[0;34m(\u001b[0m\u001b[0mX_validTab\u001b[0m\u001b[0;34m,\u001b[0m \u001b[0my_validTab\u001b[0m\u001b[0;34m)\u001b[0m\u001b[0;34m,\u001b[0m \u001b[0mepochs\u001b[0m\u001b[0;34m=\u001b[0m\u001b[0;36m50\u001b[0m\u001b[0;34m,\u001b[0m \u001b[0mbatch_size\u001b[0m\u001b[0;34m=\u001b[0m\u001b[0;36m16\u001b[0m\u001b[0;34m,\u001b[0m \u001b[0mcallbacks\u001b[0m\u001b[0;34m=\u001b[0m\u001b[0;34m[\u001b[0m\u001b[0mtensorboard_callback\u001b[0m\u001b[0;34m,\u001b[0m\u001b[0mearly_stopping_callback\u001b[0m\u001b[0;34m]\u001b[0m\u001b[0;34m)\u001b[0m\u001b[0;34m\u001b[0m\u001b[0;34m\u001b[0m\u001b[0m\n\u001b[0m",
            "\u001b[0;32m/usr/local/lib/python3.10/dist-packages/keras/utils/traceback_utils.py\u001b[0m in \u001b[0;36merror_handler\u001b[0;34m(*args, **kwargs)\u001b[0m\n\u001b[1;32m     63\u001b[0m         \u001b[0mfiltered_tb\u001b[0m \u001b[0;34m=\u001b[0m \u001b[0;32mNone\u001b[0m\u001b[0;34m\u001b[0m\u001b[0;34m\u001b[0m\u001b[0m\n\u001b[1;32m     64\u001b[0m         \u001b[0;32mtry\u001b[0m\u001b[0;34m:\u001b[0m\u001b[0;34m\u001b[0m\u001b[0;34m\u001b[0m\u001b[0m\n\u001b[0;32m---> 65\u001b[0;31m             \u001b[0;32mreturn\u001b[0m \u001b[0mfn\u001b[0m\u001b[0;34m(\u001b[0m\u001b[0;34m*\u001b[0m\u001b[0margs\u001b[0m\u001b[0;34m,\u001b[0m \u001b[0;34m**\u001b[0m\u001b[0mkwargs\u001b[0m\u001b[0;34m)\u001b[0m\u001b[0;34m\u001b[0m\u001b[0;34m\u001b[0m\u001b[0m\n\u001b[0m\u001b[1;32m     66\u001b[0m         \u001b[0;32mexcept\u001b[0m \u001b[0mException\u001b[0m \u001b[0;32mas\u001b[0m \u001b[0me\u001b[0m\u001b[0;34m:\u001b[0m\u001b[0;34m\u001b[0m\u001b[0;34m\u001b[0m\u001b[0m\n\u001b[1;32m     67\u001b[0m             \u001b[0mfiltered_tb\u001b[0m \u001b[0;34m=\u001b[0m \u001b[0m_process_traceback_frames\u001b[0m\u001b[0;34m(\u001b[0m\u001b[0me\u001b[0m\u001b[0;34m.\u001b[0m\u001b[0m__traceback__\u001b[0m\u001b[0;34m)\u001b[0m\u001b[0;34m\u001b[0m\u001b[0;34m\u001b[0m\u001b[0m\n",
            "\u001b[0;32m/usr/local/lib/python3.10/dist-packages/keras/engine/training.py\u001b[0m in \u001b[0;36mfit\u001b[0;34m(self, x, y, batch_size, epochs, verbose, callbacks, validation_split, validation_data, shuffle, class_weight, sample_weight, initial_epoch, steps_per_epoch, validation_steps, validation_batch_size, validation_freq, max_queue_size, workers, use_multiprocessing)\u001b[0m\n\u001b[1;32m   1683\u001b[0m                         ):\n\u001b[1;32m   1684\u001b[0m                             \u001b[0mcallbacks\u001b[0m\u001b[0;34m.\u001b[0m\u001b[0mon_train_batch_begin\u001b[0m\u001b[0;34m(\u001b[0m\u001b[0mstep\u001b[0m\u001b[0;34m)\u001b[0m\u001b[0;34m\u001b[0m\u001b[0;34m\u001b[0m\u001b[0m\n\u001b[0;32m-> 1685\u001b[0;31m                             \u001b[0mtmp_logs\u001b[0m \u001b[0;34m=\u001b[0m \u001b[0mself\u001b[0m\u001b[0;34m.\u001b[0m\u001b[0mtrain_function\u001b[0m\u001b[0;34m(\u001b[0m\u001b[0miterator\u001b[0m\u001b[0;34m)\u001b[0m\u001b[0;34m\u001b[0m\u001b[0;34m\u001b[0m\u001b[0m\n\u001b[0m\u001b[1;32m   1686\u001b[0m                             \u001b[0;32mif\u001b[0m \u001b[0mdata_handler\u001b[0m\u001b[0;34m.\u001b[0m\u001b[0mshould_sync\u001b[0m\u001b[0;34m:\u001b[0m\u001b[0;34m\u001b[0m\u001b[0;34m\u001b[0m\u001b[0m\n\u001b[1;32m   1687\u001b[0m                                 \u001b[0mcontext\u001b[0m\u001b[0;34m.\u001b[0m\u001b[0masync_wait\u001b[0m\u001b[0;34m(\u001b[0m\u001b[0;34m)\u001b[0m\u001b[0;34m\u001b[0m\u001b[0;34m\u001b[0m\u001b[0m\n",
            "\u001b[0;32m/usr/local/lib/python3.10/dist-packages/tensorflow/python/util/traceback_utils.py\u001b[0m in \u001b[0;36merror_handler\u001b[0;34m(*args, **kwargs)\u001b[0m\n\u001b[1;32m    148\u001b[0m     \u001b[0mfiltered_tb\u001b[0m \u001b[0;34m=\u001b[0m \u001b[0;32mNone\u001b[0m\u001b[0;34m\u001b[0m\u001b[0;34m\u001b[0m\u001b[0m\n\u001b[1;32m    149\u001b[0m     \u001b[0;32mtry\u001b[0m\u001b[0;34m:\u001b[0m\u001b[0;34m\u001b[0m\u001b[0;34m\u001b[0m\u001b[0m\n\u001b[0;32m--> 150\u001b[0;31m       \u001b[0;32mreturn\u001b[0m \u001b[0mfn\u001b[0m\u001b[0;34m(\u001b[0m\u001b[0;34m*\u001b[0m\u001b[0margs\u001b[0m\u001b[0;34m,\u001b[0m \u001b[0;34m**\u001b[0m\u001b[0mkwargs\u001b[0m\u001b[0;34m)\u001b[0m\u001b[0;34m\u001b[0m\u001b[0;34m\u001b[0m\u001b[0m\n\u001b[0m\u001b[1;32m    151\u001b[0m     \u001b[0;32mexcept\u001b[0m \u001b[0mException\u001b[0m \u001b[0;32mas\u001b[0m \u001b[0me\u001b[0m\u001b[0;34m:\u001b[0m\u001b[0;34m\u001b[0m\u001b[0;34m\u001b[0m\u001b[0m\n\u001b[1;32m    152\u001b[0m       \u001b[0mfiltered_tb\u001b[0m \u001b[0;34m=\u001b[0m \u001b[0m_process_traceback_frames\u001b[0m\u001b[0;34m(\u001b[0m\u001b[0me\u001b[0m\u001b[0;34m.\u001b[0m\u001b[0m__traceback__\u001b[0m\u001b[0;34m)\u001b[0m\u001b[0;34m\u001b[0m\u001b[0;34m\u001b[0m\u001b[0m\n",
            "\u001b[0;32m/usr/local/lib/python3.10/dist-packages/tensorflow/python/eager/polymorphic_function/polymorphic_function.py\u001b[0m in \u001b[0;36m__call__\u001b[0;34m(self, *args, **kwds)\u001b[0m\n\u001b[1;32m    892\u001b[0m \u001b[0;34m\u001b[0m\u001b[0m\n\u001b[1;32m    893\u001b[0m       \u001b[0;32mwith\u001b[0m \u001b[0mOptionalXlaContext\u001b[0m\u001b[0;34m(\u001b[0m\u001b[0mself\u001b[0m\u001b[0;34m.\u001b[0m\u001b[0m_jit_compile\u001b[0m\u001b[0;34m)\u001b[0m\u001b[0;34m:\u001b[0m\u001b[0;34m\u001b[0m\u001b[0;34m\u001b[0m\u001b[0m\n\u001b[0;32m--> 894\u001b[0;31m         \u001b[0mresult\u001b[0m \u001b[0;34m=\u001b[0m \u001b[0mself\u001b[0m\u001b[0;34m.\u001b[0m\u001b[0m_call\u001b[0m\u001b[0;34m(\u001b[0m\u001b[0;34m*\u001b[0m\u001b[0margs\u001b[0m\u001b[0;34m,\u001b[0m \u001b[0;34m**\u001b[0m\u001b[0mkwds\u001b[0m\u001b[0;34m)\u001b[0m\u001b[0;34m\u001b[0m\u001b[0;34m\u001b[0m\u001b[0m\n\u001b[0m\u001b[1;32m    895\u001b[0m \u001b[0;34m\u001b[0m\u001b[0m\n\u001b[1;32m    896\u001b[0m       \u001b[0mnew_tracing_count\u001b[0m \u001b[0;34m=\u001b[0m \u001b[0mself\u001b[0m\u001b[0;34m.\u001b[0m\u001b[0mexperimental_get_tracing_count\u001b[0m\u001b[0;34m(\u001b[0m\u001b[0;34m)\u001b[0m\u001b[0;34m\u001b[0m\u001b[0;34m\u001b[0m\u001b[0m\n",
            "\u001b[0;32m/usr/local/lib/python3.10/dist-packages/tensorflow/python/eager/polymorphic_function/polymorphic_function.py\u001b[0m in \u001b[0;36m_call\u001b[0;34m(self, *args, **kwds)\u001b[0m\n\u001b[1;32m    924\u001b[0m       \u001b[0;31m# In this case we have created variables on the first call, so we run the\u001b[0m\u001b[0;34m\u001b[0m\u001b[0;34m\u001b[0m\u001b[0m\n\u001b[1;32m    925\u001b[0m       \u001b[0;31m# defunned version which is guaranteed to never create variables.\u001b[0m\u001b[0;34m\u001b[0m\u001b[0;34m\u001b[0m\u001b[0m\n\u001b[0;32m--> 926\u001b[0;31m       \u001b[0;32mreturn\u001b[0m \u001b[0mself\u001b[0m\u001b[0;34m.\u001b[0m\u001b[0m_no_variable_creation_fn\u001b[0m\u001b[0;34m(\u001b[0m\u001b[0;34m*\u001b[0m\u001b[0margs\u001b[0m\u001b[0;34m,\u001b[0m \u001b[0;34m**\u001b[0m\u001b[0mkwds\u001b[0m\u001b[0;34m)\u001b[0m  \u001b[0;31m# pylint: disable=not-callable\u001b[0m\u001b[0;34m\u001b[0m\u001b[0;34m\u001b[0m\u001b[0m\n\u001b[0m\u001b[1;32m    927\u001b[0m     \u001b[0;32melif\u001b[0m \u001b[0mself\u001b[0m\u001b[0;34m.\u001b[0m\u001b[0m_variable_creation_fn\u001b[0m \u001b[0;32mis\u001b[0m \u001b[0;32mnot\u001b[0m \u001b[0;32mNone\u001b[0m\u001b[0;34m:\u001b[0m\u001b[0;34m\u001b[0m\u001b[0;34m\u001b[0m\u001b[0m\n\u001b[1;32m    928\u001b[0m       \u001b[0;31m# Release the lock early so that multiple threads can perform the call\u001b[0m\u001b[0;34m\u001b[0m\u001b[0;34m\u001b[0m\u001b[0m\n",
            "\u001b[0;32m/usr/local/lib/python3.10/dist-packages/tensorflow/python/eager/polymorphic_function/tracing_compiler.py\u001b[0m in \u001b[0;36m__call__\u001b[0;34m(self, *args, **kwargs)\u001b[0m\n\u001b[1;32m    141\u001b[0m       (concrete_function,\n\u001b[1;32m    142\u001b[0m        filtered_flat_args) = self._maybe_define_function(args, kwargs)\n\u001b[0;32m--> 143\u001b[0;31m     return concrete_function._call_flat(\n\u001b[0m\u001b[1;32m    144\u001b[0m         filtered_flat_args, captured_inputs=concrete_function.captured_inputs)  # pylint: disable=protected-access\n\u001b[1;32m    145\u001b[0m \u001b[0;34m\u001b[0m\u001b[0m\n",
            "\u001b[0;32m/usr/local/lib/python3.10/dist-packages/tensorflow/python/eager/polymorphic_function/monomorphic_function.py\u001b[0m in \u001b[0;36m_call_flat\u001b[0;34m(self, args, captured_inputs, cancellation_manager)\u001b[0m\n\u001b[1;32m   1755\u001b[0m         and executing_eagerly):\n\u001b[1;32m   1756\u001b[0m       \u001b[0;31m# No tape is watching; skip to running the function.\u001b[0m\u001b[0;34m\u001b[0m\u001b[0;34m\u001b[0m\u001b[0m\n\u001b[0;32m-> 1757\u001b[0;31m       return self._build_call_outputs(self._inference_function.call(\n\u001b[0m\u001b[1;32m   1758\u001b[0m           ctx, args, cancellation_manager=cancellation_manager))\n\u001b[1;32m   1759\u001b[0m     forward_backward = self._select_forward_and_backward_functions(\n",
            "\u001b[0;32m/usr/local/lib/python3.10/dist-packages/tensorflow/python/eager/polymorphic_function/monomorphic_function.py\u001b[0m in \u001b[0;36mcall\u001b[0;34m(self, ctx, args, cancellation_manager)\u001b[0m\n\u001b[1;32m    379\u001b[0m       \u001b[0;32mwith\u001b[0m \u001b[0m_InterpolateFunctionError\u001b[0m\u001b[0;34m(\u001b[0m\u001b[0mself\u001b[0m\u001b[0;34m)\u001b[0m\u001b[0;34m:\u001b[0m\u001b[0;34m\u001b[0m\u001b[0;34m\u001b[0m\u001b[0m\n\u001b[1;32m    380\u001b[0m         \u001b[0;32mif\u001b[0m \u001b[0mcancellation_manager\u001b[0m \u001b[0;32mis\u001b[0m \u001b[0;32mNone\u001b[0m\u001b[0;34m:\u001b[0m\u001b[0;34m\u001b[0m\u001b[0;34m\u001b[0m\u001b[0m\n\u001b[0;32m--> 381\u001b[0;31m           outputs = execute.execute(\n\u001b[0m\u001b[1;32m    382\u001b[0m               \u001b[0mstr\u001b[0m\u001b[0;34m(\u001b[0m\u001b[0mself\u001b[0m\u001b[0;34m.\u001b[0m\u001b[0msignature\u001b[0m\u001b[0;34m.\u001b[0m\u001b[0mname\u001b[0m\u001b[0;34m)\u001b[0m\u001b[0;34m,\u001b[0m\u001b[0;34m\u001b[0m\u001b[0;34m\u001b[0m\u001b[0m\n\u001b[1;32m    383\u001b[0m               \u001b[0mnum_outputs\u001b[0m\u001b[0;34m=\u001b[0m\u001b[0mself\u001b[0m\u001b[0;34m.\u001b[0m\u001b[0m_num_outputs\u001b[0m\u001b[0;34m,\u001b[0m\u001b[0;34m\u001b[0m\u001b[0;34m\u001b[0m\u001b[0m\n",
            "\u001b[0;32m/usr/local/lib/python3.10/dist-packages/tensorflow/python/eager/execute.py\u001b[0m in \u001b[0;36mquick_execute\u001b[0;34m(op_name, num_outputs, inputs, attrs, ctx, name)\u001b[0m\n\u001b[1;32m     50\u001b[0m   \u001b[0;32mtry\u001b[0m\u001b[0;34m:\u001b[0m\u001b[0;34m\u001b[0m\u001b[0;34m\u001b[0m\u001b[0m\n\u001b[1;32m     51\u001b[0m     \u001b[0mctx\u001b[0m\u001b[0;34m.\u001b[0m\u001b[0mensure_initialized\u001b[0m\u001b[0;34m(\u001b[0m\u001b[0;34m)\u001b[0m\u001b[0;34m\u001b[0m\u001b[0;34m\u001b[0m\u001b[0m\n\u001b[0;32m---> 52\u001b[0;31m     tensors = pywrap_tfe.TFE_Py_Execute(ctx._handle, device_name, op_name,\n\u001b[0m\u001b[1;32m     53\u001b[0m                                         inputs, attrs, num_outputs)\n\u001b[1;32m     54\u001b[0m   \u001b[0;32mexcept\u001b[0m \u001b[0mcore\u001b[0m\u001b[0;34m.\u001b[0m\u001b[0m_NotOkStatusException\u001b[0m \u001b[0;32mas\u001b[0m \u001b[0me\u001b[0m\u001b[0;34m:\u001b[0m\u001b[0;34m\u001b[0m\u001b[0;34m\u001b[0m\u001b[0m\n",
            "\u001b[0;31mKeyboardInterrupt\u001b[0m: "
          ]
        }
      ]
    },
    {
      "cell_type": "markdown",
      "source": [
        "#Alcohol"
      ],
      "metadata": {
        "id": "yc72FGR7BxRx"
      }
    },
    {
      "cell_type": "code",
      "source": [
        "log_dir=\"logs/fit/\" + datetime.datetime.now().strftime(\"%Y%m%d-%H%M%S\")\n",
        "tensorboard_callback = TensorBoard(log_dir=log_dir, histogram_freq=1)\n",
        "\n",
        "model = tf.keras.Sequential([\n",
        "    layers.Dense(X2016Base.shape[1], activation='relu', input_shape=(X2016Base.shape[1],)),\n",
        "    layers.Dense(4, activation='relu'),\n",
        "    layers.Dropout(0.2),\n",
        "    layers.Dense(2, activation='relu'),\n",
        "    layers.Dense(1, activation='sigmoid')\n",
        "])\n",
        "\n",
        "model.compile(optimizer='adam', loss='binary_crossentropy', metrics=['accuracy'])\n",
        "tensorboard_callback = TensorBoard(log_dir=log_dir, histogram_freq=1)\n",
        "\n",
        "early_stopping_callback = EarlyStopping(monitor='val_accuracy', patience=20)\n",
        "\n",
        "model.fit(X_trainBeb, y_trainBeb, validation_data=(X_validBeb, y_validBeb), epochs=30, batch_size=32, callbacks=[tensorboard_callback,early_stopping_callback])"
      ],
      "metadata": {
        "colab": {
          "base_uri": "https://localhost:8080/"
        },
        "id": "PCA7rNsGB1kO",
        "outputId": "b76b1e16-c156-42ad-93ad-d337d43acbdf"
      },
      "execution_count": 21,
      "outputs": [
        {
          "output_type": "stream",
          "name": "stdout",
          "text": [
            "Epoch 1/30\n",
            "30/30 [==============================] - 1s 16ms/step - loss: -0.3133 - accuracy: 0.9506 - val_loss: -0.8102 - val_accuracy: 0.9706\n",
            "Epoch 2/30\n",
            "30/30 [==============================] - 0s 10ms/step - loss: -1.8114 - accuracy: 0.9622 - val_loss: -2.4016 - val_accuracy: 0.9706\n",
            "Epoch 3/30\n",
            "30/30 [==============================] - 0s 10ms/step - loss: -4.6400 - accuracy: 0.9622 - val_loss: -5.2177 - val_accuracy: 0.9706\n",
            "Epoch 4/30\n",
            "30/30 [==============================] - 0s 11ms/step - loss: -10.2850 - accuracy: 0.9622 - val_loss: -11.0401 - val_accuracy: 0.9706\n",
            "Epoch 5/30\n",
            "30/30 [==============================] - 0s 10ms/step - loss: -20.2476 - accuracy: 0.9622 - val_loss: -19.7674 - val_accuracy: 0.9706\n",
            "Epoch 6/30\n",
            "30/30 [==============================] - 0s 10ms/step - loss: -33.9556 - accuracy: 0.9622 - val_loss: -32.5485 - val_accuracy: 0.9706\n",
            "Epoch 7/30\n",
            "30/30 [==============================] - 0s 12ms/step - loss: -56.0464 - accuracy: 0.9622 - val_loss: -49.4056 - val_accuracy: 0.9706\n",
            "Epoch 8/30\n",
            "30/30 [==============================] - 0s 12ms/step - loss: -87.3085 - accuracy: 0.9622 - val_loss: -72.7910 - val_accuracy: 0.9706\n",
            "Epoch 9/30\n",
            "30/30 [==============================] - 1s 17ms/step - loss: -117.5423 - accuracy: 0.9622 - val_loss: -100.8065 - val_accuracy: 0.9706\n",
            "Epoch 10/30\n",
            "30/30 [==============================] - 0s 16ms/step - loss: -154.8143 - accuracy: 0.9622 - val_loss: -134.8345 - val_accuracy: 0.9706\n",
            "Epoch 11/30\n",
            "30/30 [==============================] - 0s 15ms/step - loss: -225.0923 - accuracy: 0.9622 - val_loss: -181.4951 - val_accuracy: 0.9706\n",
            "Epoch 12/30\n",
            "30/30 [==============================] - 0s 15ms/step - loss: -271.1826 - accuracy: 0.9622 - val_loss: -231.0255 - val_accuracy: 0.9706\n",
            "Epoch 13/30\n",
            "30/30 [==============================] - 0s 15ms/step - loss: -369.0112 - accuracy: 0.9622 - val_loss: -291.6082 - val_accuracy: 0.9706\n",
            "Epoch 14/30\n",
            "30/30 [==============================] - 0s 17ms/step - loss: -476.8386 - accuracy: 0.9622 - val_loss: -368.4684 - val_accuracy: 0.9706\n",
            "Epoch 15/30\n",
            "30/30 [==============================] - 0s 15ms/step - loss: -488.9573 - accuracy: 0.9622 - val_loss: -440.8731 - val_accuracy: 0.9706\n",
            "Epoch 16/30\n",
            "30/30 [==============================] - 1s 17ms/step - loss: -743.9177 - accuracy: 0.9622 - val_loss: -545.0992 - val_accuracy: 0.9706\n",
            "Epoch 17/30\n",
            "30/30 [==============================] - 0s 15ms/step - loss: -799.3564 - accuracy: 0.9622 - val_loss: -648.8437 - val_accuracy: 0.9706\n",
            "Epoch 18/30\n",
            "30/30 [==============================] - 0s 10ms/step - loss: -1047.8861 - accuracy: 0.9622 - val_loss: -780.9451 - val_accuracy: 0.9706\n",
            "Epoch 19/30\n",
            "30/30 [==============================] - 0s 11ms/step - loss: -918.3912 - accuracy: 0.9622 - val_loss: -903.1525 - val_accuracy: 0.9706\n",
            "Epoch 20/30\n",
            "30/30 [==============================] - 0s 10ms/step - loss: -1284.2245 - accuracy: 0.9622 - val_loss: -1059.1714 - val_accuracy: 0.9706\n",
            "Epoch 21/30\n",
            "30/30 [==============================] - 0s 11ms/step - loss: -1421.8176 - accuracy: 0.9622 - val_loss: -1223.1373 - val_accuracy: 0.9706\n"
          ]
        },
        {
          "output_type": "execute_result",
          "data": {
            "text/plain": [
              "<keras.callbacks.History at 0x7f93c58622c0>"
            ]
          },
          "metadata": {},
          "execution_count": 21
        }
      ]
    },
    {
      "cell_type": "markdown",
      "source": [
        "#Marihuana"
      ],
      "metadata": {
        "id": "9qLAwROgE-xY"
      }
    },
    {
      "cell_type": "code",
      "source": [
        "log_dir=\"logs/fit/\" + datetime.datetime.now().strftime(\"%Y%m%d-%H%M%S\")\n",
        "tensorboard_callback = TensorBoard(log_dir=log_dir, histogram_freq=1)\n",
        "\n",
        "model = tf.keras.Sequential([\n",
        "    layers.Dense(X2016Base.shape[1], activation='relu', input_shape=(X2016Base.shape[1],)),\n",
        "    layers.Dense(4, activation='relu'),\n",
        "    layers.Dropout(0.2),\n",
        "    layers.Dense(2, activation='relu'),\n",
        "    layers.Dense(1, activation='sigmoid')\n",
        "])\n",
        "\n",
        "model.compile(optimizer='adam', loss='binary_crossentropy', metrics=['accuracy'])\n",
        "tensorboard_callback = TensorBoard(log_dir=log_dir, histogram_freq=1)\n",
        "\n",
        "early_stopping_callback = EarlyStopping(monitor='val_accuracy', patience=20)\n",
        "\n",
        "model.fit(X_trainMar, y_trainMar, validation_data=(X_validMar, y_validMar), epochs=30, batch_size=32, callbacks=[tensorboard_callback,early_stopping_callback])"
      ],
      "metadata": {
        "colab": {
          "base_uri": "https://localhost:8080/"
        },
        "id": "2-N-RKBnGZRJ",
        "outputId": "ca2a04d7-50bc-4a1e-a89a-b21a35313c1b"
      },
      "execution_count": 22,
      "outputs": [
        {
          "output_type": "stream",
          "name": "stdout",
          "text": [
            "Epoch 1/30\n",
            "30/30 [==============================] - 1s 17ms/step - loss: -0.3607 - accuracy: 0.4422 - val_loss: -2.9725 - val_accuracy: 0.4622\n",
            "Epoch 2/30\n",
            "30/30 [==============================] - 0s 11ms/step - loss: -8.6625 - accuracy: 0.4569 - val_loss: -17.2735 - val_accuracy: 0.4622\n",
            "Epoch 3/30\n",
            "30/30 [==============================] - 0s 11ms/step - loss: -35.3415 - accuracy: 0.4569 - val_loss: -58.9236 - val_accuracy: 0.4622\n",
            "Epoch 4/30\n",
            "30/30 [==============================] - 0s 11ms/step - loss: -99.4479 - accuracy: 0.4569 - val_loss: -151.8488 - val_accuracy: 0.4622\n",
            "Epoch 5/30\n",
            "30/30 [==============================] - 0s 11ms/step - loss: -237.8152 - accuracy: 0.4569 - val_loss: -327.9518 - val_accuracy: 0.4622\n",
            "Epoch 6/30\n",
            "30/30 [==============================] - 0s 11ms/step - loss: -473.7675 - accuracy: 0.4569 - val_loss: -617.5654 - val_accuracy: 0.4622\n",
            "Epoch 7/30\n",
            "30/30 [==============================] - 0s 11ms/step - loss: -810.5541 - accuracy: 0.4569 - val_loss: -1062.9020 - val_accuracy: 0.4622\n",
            "Epoch 8/30\n",
            "30/30 [==============================] - 0s 11ms/step - loss: -1368.8518 - accuracy: 0.4569 - val_loss: -1700.2479 - val_accuracy: 0.4622\n",
            "Epoch 9/30\n",
            "30/30 [==============================] - 0s 11ms/step - loss: -2207.9299 - accuracy: 0.4569 - val_loss: -2610.7034 - val_accuracy: 0.4622\n",
            "Epoch 10/30\n",
            "30/30 [==============================] - 0s 11ms/step - loss: -3111.3425 - accuracy: 0.4569 - val_loss: -3806.0498 - val_accuracy: 0.4622\n",
            "Epoch 11/30\n",
            "30/30 [==============================] - 0s 11ms/step - loss: -4748.7339 - accuracy: 0.4569 - val_loss: -5409.2695 - val_accuracy: 0.4622\n",
            "Epoch 12/30\n",
            "30/30 [==============================] - 0s 10ms/step - loss: -6427.5142 - accuracy: 0.4569 - val_loss: -7401.2480 - val_accuracy: 0.4622\n",
            "Epoch 13/30\n",
            "30/30 [==============================] - 0s 11ms/step - loss: -8779.0254 - accuracy: 0.4569 - val_loss: -9866.1787 - val_accuracy: 0.4622\n",
            "Epoch 14/30\n",
            "30/30 [==============================] - 0s 11ms/step - loss: -11296.3252 - accuracy: 0.4569 - val_loss: -12909.8633 - val_accuracy: 0.4622\n",
            "Epoch 15/30\n",
            "30/30 [==============================] - 0s 17ms/step - loss: -14925.0215 - accuracy: 0.4569 - val_loss: -16530.5879 - val_accuracy: 0.4622\n",
            "Epoch 16/30\n",
            "30/30 [==============================] - 1s 20ms/step - loss: -18778.5820 - accuracy: 0.4569 - val_loss: -20869.0488 - val_accuracy: 0.4622\n",
            "Epoch 17/30\n",
            "30/30 [==============================] - 1s 18ms/step - loss: -22785.0840 - accuracy: 0.4569 - val_loss: -25916.7969 - val_accuracy: 0.4622\n",
            "Epoch 18/30\n",
            "30/30 [==============================] - 1s 17ms/step - loss: -29346.0273 - accuracy: 0.4569 - val_loss: -31911.4668 - val_accuracy: 0.4622\n",
            "Epoch 19/30\n",
            "30/30 [==============================] - 0s 16ms/step - loss: -35271.8242 - accuracy: 0.4569 - val_loss: -38833.0469 - val_accuracy: 0.4622\n",
            "Epoch 20/30\n",
            "30/30 [==============================] - 1s 17ms/step - loss: -42828.4102 - accuracy: 0.4569 - val_loss: -46797.2773 - val_accuracy: 0.4622\n",
            "Epoch 21/30\n",
            "30/30 [==============================] - 1s 18ms/step - loss: -51960.4648 - accuracy: 0.4569 - val_loss: -56049.3984 - val_accuracy: 0.4622\n"
          ]
        },
        {
          "output_type": "execute_result",
          "data": {
            "text/plain": [
              "<keras.callbacks.History at 0x7f93bc312950>"
            ]
          },
          "metadata": {},
          "execution_count": 22
        }
      ]
    },
    {
      "cell_type": "markdown",
      "source": [
        "#Cocaína"
      ],
      "metadata": {
        "id": "AbXT1AWgFHf2"
      }
    },
    {
      "cell_type": "code",
      "source": [
        "log_dir=\"logs/fit/\" + datetime.datetime.now().strftime(\"%Y%m%d-%H%M%S\")\n",
        "tensorboard_callback = TensorBoard(log_dir=log_dir, histogram_freq=1)\n",
        "\n",
        "model = tf.keras.Sequential([\n",
        "    layers.Dense(X2016Base.shape[1], activation='relu', input_shape=(X2016Base.shape[1],)),\n",
        "    layers.Dense(4, activation='relu'),\n",
        "    layers.Dropout(0.2),\n",
        "    layers.Dense(2, activation='relu'),\n",
        "    layers.Dense(1, activation='sigmoid')\n",
        "])\n",
        "\n",
        "model.compile(optimizer='adam', loss='binary_crossentropy', metrics=['accuracy'])\n",
        "tensorboard_callback = TensorBoard(log_dir=log_dir, histogram_freq=1)\n",
        "\n",
        "early_stopping_callback = EarlyStopping(monitor='val_accuracy', patience=20)\n",
        "\n",
        "model.fit(X_trainCoc, y_trainCoc, validation_data=(X_validCoc, y_validCoc), epochs=30, batch_size=32, callbacks=[tensorboard_callback,early_stopping_callback])"
      ],
      "metadata": {
        "colab": {
          "base_uri": "https://localhost:8080/"
        },
        "id": "7rvfFP1vGZ33",
        "outputId": "fecd0557-9776-47dd-f88f-ae910c5b4139"
      },
      "execution_count": 25,
      "outputs": [
        {
          "output_type": "stream",
          "name": "stdout",
          "text": [
            "Epoch 1/30\n",
            "30/30 [==============================] - 2s 26ms/step - loss: 0.6792 - accuracy: 0.0924 - val_loss: 0.6504 - val_accuracy: 0.0798\n",
            "Epoch 2/30\n",
            "30/30 [==============================] - 1s 18ms/step - loss: 0.6289 - accuracy: 0.1092 - val_loss: 0.6062 - val_accuracy: 0.0840\n",
            "Epoch 3/30\n",
            "30/30 [==============================] - 1s 17ms/step - loss: 0.5849 - accuracy: 0.1113 - val_loss: 0.5633 - val_accuracy: 0.0882\n",
            "Epoch 4/30\n",
            "30/30 [==============================] - 1s 17ms/step - loss: 0.5421 - accuracy: 0.1145 - val_loss: 0.5231 - val_accuracy: 0.0840\n",
            "Epoch 5/30\n",
            "30/30 [==============================] - 0s 16ms/step - loss: 0.5035 - accuracy: 0.1124 - val_loss: 0.4829 - val_accuracy: 0.0882\n",
            "Epoch 6/30\n",
            "30/30 [==============================] - 1s 18ms/step - loss: 0.4625 - accuracy: 0.1134 - val_loss: 0.4443 - val_accuracy: 0.0840\n",
            "Epoch 7/30\n",
            "30/30 [==============================] - 0s 14ms/step - loss: 0.4261 - accuracy: 0.1113 - val_loss: 0.4061 - val_accuracy: 0.0840\n",
            "Epoch 8/30\n",
            "30/30 [==============================] - 0s 12ms/step - loss: 0.3836 - accuracy: 0.1155 - val_loss: 0.3670 - val_accuracy: 0.0882\n",
            "Epoch 9/30\n",
            "30/30 [==============================] - 0s 11ms/step - loss: 0.3505 - accuracy: 0.1103 - val_loss: 0.3300 - val_accuracy: 0.0840\n",
            "Epoch 10/30\n",
            "30/30 [==============================] - 0s 11ms/step - loss: 0.3078 - accuracy: 0.1155 - val_loss: 0.2910 - val_accuracy: 0.0882\n",
            "Epoch 11/30\n",
            "30/30 [==============================] - 0s 12ms/step - loss: 0.2733 - accuracy: 0.1124 - val_loss: 0.2537 - val_accuracy: 0.0882\n",
            "Epoch 12/30\n",
            "30/30 [==============================] - 0s 11ms/step - loss: 0.2320 - accuracy: 0.1176 - val_loss: 0.2159 - val_accuracy: 0.0924\n",
            "Epoch 13/30\n",
            "30/30 [==============================] - 0s 11ms/step - loss: 0.1990 - accuracy: 0.1134 - val_loss: 0.1796 - val_accuracy: 0.0882\n",
            "Epoch 14/30\n",
            "30/30 [==============================] - 0s 13ms/step - loss: 0.1634 - accuracy: 0.1124 - val_loss: 0.1453 - val_accuracy: 0.0840\n",
            "Epoch 15/30\n",
            "30/30 [==============================] - 0s 11ms/step - loss: 0.1260 - accuracy: 0.1145 - val_loss: 0.1045 - val_accuracy: 0.0924\n",
            "Epoch 16/30\n",
            "30/30 [==============================] - 0s 11ms/step - loss: 0.0858 - accuracy: 0.1176 - val_loss: 0.0724 - val_accuracy: 0.0840\n",
            "Epoch 17/30\n",
            "30/30 [==============================] - 0s 11ms/step - loss: 0.0533 - accuracy: 0.1145 - val_loss: 0.0362 - val_accuracy: 0.0840\n",
            "Epoch 18/30\n",
            "30/30 [==============================] - 0s 12ms/step - loss: 0.0165 - accuracy: 0.1155 - val_loss: -0.0024 - val_accuracy: 0.0966\n",
            "Epoch 19/30\n",
            "30/30 [==============================] - 0s 11ms/step - loss: -0.0154 - accuracy: 0.1124 - val_loss: -0.0323 - val_accuracy: 0.0840\n",
            "Epoch 20/30\n",
            "30/30 [==============================] - 0s 11ms/step - loss: -0.0492 - accuracy: 0.1113 - val_loss: -0.0682 - val_accuracy: 0.0840\n",
            "Epoch 21/30\n",
            "30/30 [==============================] - 0s 12ms/step - loss: -0.0885 - accuracy: 0.1166 - val_loss: -0.1019 - val_accuracy: 0.0840\n",
            "Epoch 22/30\n",
            "30/30 [==============================] - 0s 12ms/step - loss: -0.1209 - accuracy: 0.1145 - val_loss: -0.1411 - val_accuracy: 0.0882\n",
            "Epoch 23/30\n",
            "30/30 [==============================] - 0s 12ms/step - loss: -0.1570 - accuracy: 0.1155 - val_loss: -0.1774 - val_accuracy: 0.0966\n",
            "Epoch 24/30\n",
            "30/30 [==============================] - 0s 11ms/step - loss: -0.1933 - accuracy: 0.1176 - val_loss: -0.2100 - val_accuracy: 0.0966\n",
            "Epoch 25/30\n",
            "30/30 [==============================] - 0s 11ms/step - loss: -0.2278 - accuracy: 0.1187 - val_loss: -0.2377 - val_accuracy: 0.0840\n",
            "Epoch 26/30\n",
            "30/30 [==============================] - 0s 13ms/step - loss: -0.2562 - accuracy: 0.1145 - val_loss: -0.2726 - val_accuracy: 0.0882\n",
            "Epoch 27/30\n",
            "30/30 [==============================] - 0s 12ms/step - loss: -0.2923 - accuracy: 0.1166 - val_loss: -0.3094 - val_accuracy: 0.0924\n",
            "Epoch 28/30\n",
            "30/30 [==============================] - 0s 12ms/step - loss: -0.3241 - accuracy: 0.1155 - val_loss: -0.3433 - val_accuracy: 0.0924\n",
            "Epoch 29/30\n",
            "30/30 [==============================] - 0s 12ms/step - loss: -0.3544 - accuracy: 0.1134 - val_loss: -0.3765 - val_accuracy: 0.0924\n",
            "Epoch 30/30\n",
            "30/30 [==============================] - 0s 12ms/step - loss: -0.3918 - accuracy: 0.1176 - val_loss: -0.4096 - val_accuracy: 0.0966\n"
          ]
        },
        {
          "output_type": "execute_result",
          "data": {
            "text/plain": [
              "<keras.callbacks.History at 0x7f93b44a6290>"
            ]
          },
          "metadata": {},
          "execution_count": 25
        }
      ]
    },
    {
      "cell_type": "markdown",
      "source": [
        "#Resultados con Redes Neuronales\n"
      ],
      "metadata": {
        "id": "XShgPw_nDTsG"
      }
    },
    {
      "cell_type": "code",
      "source": [
        "%load_ext tensorboard\n",
        "%tensorboard --logdir logs"
      ],
      "metadata": {
        "id": "LoYmzIxTG-lw"
      },
      "execution_count": null,
      "outputs": []
    },
    {
      "cell_type": "markdown",
      "source": [
        "Se importan las dependencias para trabajar con Árboles"
      ],
      "metadata": {
        "id": "A4xdUSyiVv5_"
      }
    },
    {
      "cell_type": "code",
      "source": [
        "import pandas as pd\n",
        "from sklearn.tree import DecisionTreeClassifier\n",
        "from sklearn.model_selection import train_test_split\n",
        "from sklearn.metrics import accuracy_score"
      ],
      "metadata": {
        "id": "Xn1AqrTlTSG-"
      },
      "execution_count": null,
      "outputs": []
    },
    {
      "cell_type": "markdown",
      "source": [
        "#Base"
      ],
      "metadata": {
        "id": "LE4ERcf7T9qp"
      }
    },
    {
      "cell_type": "code",
      "source": [
        "clf = DecisionTreeClassifier()\n",
        "clf.fit(X_trainBase, y_trainBase)\n",
        "y_pred = clf.predict(X_validBase)\n",
        "accuracy = accuracy_score(y_validBase, y_pred)\n",
        "print(\"Precisión:\", accuracy)"
      ],
      "metadata": {
        "id": "HSs3mi8AUQ1A"
      },
      "execution_count": null,
      "outputs": []
    },
    {
      "cell_type": "markdown",
      "source": [
        "#Tabaco"
      ],
      "metadata": {
        "id": "cc3A4RSnT_ye"
      }
    },
    {
      "cell_type": "code",
      "source": [
        "clf = DecisionTreeClassifier()\n",
        "clf.fit(X_trainTab, y_trainTab)\n",
        "y_pred = clf.predict(X_validTab)\n",
        "accuracy = accuracy_score(y_validTab, y_pred)\n",
        "print(\"Precisión:\", accuracy)"
      ],
      "metadata": {
        "id": "r5nE8nRpURcf"
      },
      "execution_count": null,
      "outputs": []
    },
    {
      "cell_type": "markdown",
      "source": [
        "#Alcohol"
      ],
      "metadata": {
        "id": "5pJ32wuTUCCY"
      }
    },
    {
      "cell_type": "code",
      "source": [
        "clf = DecisionTreeClassifier()\n",
        "clf.fit(X_trainBeb, y_trainBeb)\n",
        "y_pred = clf.predict(X_validBeb)\n",
        "accuracy = accuracy_score(y_validBeb, y_pred)\n",
        "print(\"Precisión:\", accuracy)"
      ],
      "metadata": {
        "id": "A3alGqjpUSGG"
      },
      "execution_count": null,
      "outputs": []
    },
    {
      "cell_type": "markdown",
      "source": [
        "#Marihuana"
      ],
      "metadata": {
        "id": "TdiOXtEaUEZb"
      }
    },
    {
      "cell_type": "code",
      "source": [
        "clf = DecisionTreeClassifier()\n",
        "clf.fit(X_trainMar, y_trainMar)\n",
        "y_pred = clf.predict(X_validMar)\n",
        "accuracy = accuracy_score(y_validMar, y_pred)\n",
        "print(\"Precisión:\", accuracy)\n",
        "clf.features"
      ],
      "metadata": {
        "id": "jmjvXoJVUUUZ"
      },
      "execution_count": null,
      "outputs": []
    },
    {
      "cell_type": "markdown",
      "source": [
        "#Cocaína"
      ],
      "metadata": {
        "id": "2ge7n2KZULK6"
      }
    },
    {
      "cell_type": "code",
      "source": [
        "clf = DecisionTreeClassifier()\n",
        "clf.fit(X_trainCoc, y_trainCoc)\n",
        "y_pred = clf.predict(X_validCoc)\n",
        "accuracy = accuracy_score(y_validCoc, y_pred)\n",
        "print(\"Precisión:\", accuracy)"
      ],
      "metadata": {
        "id": "gb7oYM8zUU6Z"
      },
      "execution_count": null,
      "outputs": []
    },
    {
      "cell_type": "markdown",
      "source": [
        "#Random Forest"
      ],
      "metadata": {
        "id": "lZZenw-_e7c4"
      }
    },
    {
      "cell_type": "code",
      "source": [
        "from sklearn.ensemble import RandomForestClassifier\n",
        "from sklearn.metrics import accuracy_score"
      ],
      "metadata": {
        "id": "x8t1uI8Ue9Yq"
      },
      "execution_count": 31,
      "outputs": []
    },
    {
      "cell_type": "code",
      "source": [
        "random_forest = RandomForestClassifier(n_estimators=100, max_depth=5, random_state=42)\n"
      ],
      "metadata": {
        "id": "IMrV9F2OfBvB"
      },
      "execution_count": 32,
      "outputs": []
    },
    {
      "cell_type": "code",
      "source": [
        "random_forest.fit(X_trainTab, y_trainTab)\n"
      ],
      "metadata": {
        "colab": {
          "base_uri": "https://localhost:8080/",
          "height": 130
        },
        "id": "OZjIqZ80fCnr",
        "outputId": "79886aee-438b-4b7c-dee5-578dcd9c705a"
      },
      "execution_count": 33,
      "outputs": [
        {
          "output_type": "stream",
          "name": "stderr",
          "text": [
            "<ipython-input-33-5596f6b3a74b>:1: DataConversionWarning: A column-vector y was passed when a 1d array was expected. Please change the shape of y to (n_samples,), for example using ravel().\n",
            "  random_forest.fit(X_trainTab, y_trainTab)\n"
          ]
        },
        {
          "output_type": "execute_result",
          "data": {
            "text/plain": [
              "RandomForestClassifier(max_depth=5, random_state=42)"
            ],
            "text/html": [
              "<style>#sk-container-id-1 {color: black;background-color: white;}#sk-container-id-1 pre{padding: 0;}#sk-container-id-1 div.sk-toggleable {background-color: white;}#sk-container-id-1 label.sk-toggleable__label {cursor: pointer;display: block;width: 100%;margin-bottom: 0;padding: 0.3em;box-sizing: border-box;text-align: center;}#sk-container-id-1 label.sk-toggleable__label-arrow:before {content: \"▸\";float: left;margin-right: 0.25em;color: #696969;}#sk-container-id-1 label.sk-toggleable__label-arrow:hover:before {color: black;}#sk-container-id-1 div.sk-estimator:hover label.sk-toggleable__label-arrow:before {color: black;}#sk-container-id-1 div.sk-toggleable__content {max-height: 0;max-width: 0;overflow: hidden;text-align: left;background-color: #f0f8ff;}#sk-container-id-1 div.sk-toggleable__content pre {margin: 0.2em;color: black;border-radius: 0.25em;background-color: #f0f8ff;}#sk-container-id-1 input.sk-toggleable__control:checked~div.sk-toggleable__content {max-height: 200px;max-width: 100%;overflow: auto;}#sk-container-id-1 input.sk-toggleable__control:checked~label.sk-toggleable__label-arrow:before {content: \"▾\";}#sk-container-id-1 div.sk-estimator input.sk-toggleable__control:checked~label.sk-toggleable__label {background-color: #d4ebff;}#sk-container-id-1 div.sk-label input.sk-toggleable__control:checked~label.sk-toggleable__label {background-color: #d4ebff;}#sk-container-id-1 input.sk-hidden--visually {border: 0;clip: rect(1px 1px 1px 1px);clip: rect(1px, 1px, 1px, 1px);height: 1px;margin: -1px;overflow: hidden;padding: 0;position: absolute;width: 1px;}#sk-container-id-1 div.sk-estimator {font-family: monospace;background-color: #f0f8ff;border: 1px dotted black;border-radius: 0.25em;box-sizing: border-box;margin-bottom: 0.5em;}#sk-container-id-1 div.sk-estimator:hover {background-color: #d4ebff;}#sk-container-id-1 div.sk-parallel-item::after {content: \"\";width: 100%;border-bottom: 1px solid gray;flex-grow: 1;}#sk-container-id-1 div.sk-label:hover label.sk-toggleable__label {background-color: #d4ebff;}#sk-container-id-1 div.sk-serial::before {content: \"\";position: absolute;border-left: 1px solid gray;box-sizing: border-box;top: 0;bottom: 0;left: 50%;z-index: 0;}#sk-container-id-1 div.sk-serial {display: flex;flex-direction: column;align-items: center;background-color: white;padding-right: 0.2em;padding-left: 0.2em;position: relative;}#sk-container-id-1 div.sk-item {position: relative;z-index: 1;}#sk-container-id-1 div.sk-parallel {display: flex;align-items: stretch;justify-content: center;background-color: white;position: relative;}#sk-container-id-1 div.sk-item::before, #sk-container-id-1 div.sk-parallel-item::before {content: \"\";position: absolute;border-left: 1px solid gray;box-sizing: border-box;top: 0;bottom: 0;left: 50%;z-index: -1;}#sk-container-id-1 div.sk-parallel-item {display: flex;flex-direction: column;z-index: 1;position: relative;background-color: white;}#sk-container-id-1 div.sk-parallel-item:first-child::after {align-self: flex-end;width: 50%;}#sk-container-id-1 div.sk-parallel-item:last-child::after {align-self: flex-start;width: 50%;}#sk-container-id-1 div.sk-parallel-item:only-child::after {width: 0;}#sk-container-id-1 div.sk-dashed-wrapped {border: 1px dashed gray;margin: 0 0.4em 0.5em 0.4em;box-sizing: border-box;padding-bottom: 0.4em;background-color: white;}#sk-container-id-1 div.sk-label label {font-family: monospace;font-weight: bold;display: inline-block;line-height: 1.2em;}#sk-container-id-1 div.sk-label-container {text-align: center;}#sk-container-id-1 div.sk-container {/* jupyter's `normalize.less` sets `[hidden] { display: none; }` but bootstrap.min.css set `[hidden] { display: none !important; }` so we also need the `!important` here to be able to override the default hidden behavior on the sphinx rendered scikit-learn.org. See: https://github.com/scikit-learn/scikit-learn/issues/21755 */display: inline-block !important;position: relative;}#sk-container-id-1 div.sk-text-repr-fallback {display: none;}</style><div id=\"sk-container-id-1\" class=\"sk-top-container\"><div class=\"sk-text-repr-fallback\"><pre>RandomForestClassifier(max_depth=5, random_state=42)</pre><b>In a Jupyter environment, please rerun this cell to show the HTML representation or trust the notebook. <br />On GitHub, the HTML representation is unable to render, please try loading this page with nbviewer.org.</b></div><div class=\"sk-container\" hidden><div class=\"sk-item\"><div class=\"sk-estimator sk-toggleable\"><input class=\"sk-toggleable__control sk-hidden--visually\" id=\"sk-estimator-id-1\" type=\"checkbox\" checked><label for=\"sk-estimator-id-1\" class=\"sk-toggleable__label sk-toggleable__label-arrow\">RandomForestClassifier</label><div class=\"sk-toggleable__content\"><pre>RandomForestClassifier(max_depth=5, random_state=42)</pre></div></div></div></div></div>"
            ]
          },
          "metadata": {},
          "execution_count": 33
        }
      ]
    },
    {
      "cell_type": "code",
      "source": [
        "y_pred = random_forest.predict(X_validTab)\n"
      ],
      "metadata": {
        "id": "lzrGt9iafDoh"
      },
      "execution_count": 34,
      "outputs": []
    },
    {
      "cell_type": "code",
      "source": [
        "accuracy = accuracy_score(y_validTab, y_pred)\n",
        "print(\"Accuracy:\", accuracy)\n"
      ],
      "metadata": {
        "colab": {
          "base_uri": "https://localhost:8080/"
        },
        "id": "rYNxgiE1fE4b",
        "outputId": "cd8cdea9-ff12-4799-a764-2964f4f57103"
      },
      "execution_count": 35,
      "outputs": [
        {
          "output_type": "stream",
          "name": "stdout",
          "text": [
            "Accuracy: 0.773109243697479\n"
          ]
        }
      ]
    }
  ]
}